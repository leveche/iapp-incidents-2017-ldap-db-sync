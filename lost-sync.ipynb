{
 "cells": [
  {
   "cell_type": "code",
   "execution_count": 6,
   "metadata": {
    "collapsed": false,
    "jupyter": {
     "outputs_hidden": false
    }
   },
   "outputs": [],
   "source": [
    "import glob\n",
    "x = set([])\n",
    "# dumpfiles = glob.glob('./ldap*')\n",
    "dumpfiles = ['1','2','3']\n",
    "m = {}"
   ]
  },
  {
   "cell_type": "code",
   "execution_count": 3,
   "metadata": {
    "tags": []
   },
   "outputs": [],
   "source": [
    "import pandas as p"
   ]
  },
  {
   "cell_type": "code",
   "execution_count": 7,
   "metadata": {
    "collapsed": false,
    "jupyter": {
     "outputs_hidden": false
    }
   },
   "outputs": [
    {
     "name": "stdout",
     "output_type": "stream",
     "text": [
      "1 1281999\n",
      "1281999\n",
      "2 1281999\n",
      "1281999\n",
      "3 1281999\n",
      "1281999\n"
     ]
    }
   ],
   "source": [
    "for f in dumpfiles:\n",
    "    y = set(line.strip() for line in open(f))\n",
    "    print f,len(y)\n",
    "    x = x.union(y)\n",
    "    print len(x)"
   ]
  },
  {
   "cell_type": "code",
   "execution_count": 8,
   "metadata": {
    "tags": []
   },
   "outputs": [],
   "source": [
    "m = {}"
   ]
  },
  {
   "cell_type": "code",
   "execution_count": 9,
   "metadata": {
    "collapsed": false,
    "jupyter": {
     "outputs_hidden": false
    }
   },
   "outputs": [],
   "source": [
    "d = {}\n",
    "U = {}"
   ]
  },
  {
   "cell_type": "code",
   "execution_count": 10,
   "metadata": {
    "collapsed": false,
    "jupyter": {
     "outputs_hidden": false
    }
   },
   "outputs": [],
   "source": [
    "for f in dumpfiles:\n",
    "    U[f] = [ line.strip() for line in open(f) ]\n"
   ]
  },
  {
   "cell_type": "code",
   "execution_count": 11,
   "metadata": {
    "collapsed": false,
    "jupyter": {
     "outputs_hidden": false
    }
   },
   "outputs": [],
   "source": [
    "V = {}"
   ]
  },
  {
   "cell_type": "code",
   "execution_count": 12,
   "metadata": {
    "collapsed": false,
    "jupyter": {
     "outputs_hidden": false
    }
   },
   "outputs": [],
   "source": [
    "for f in dumpfiles:\n",
    "    V[f] = list(x-set(U[f]))"
   ]
  },
  {
   "cell_type": "code",
   "execution_count": 13,
   "metadata": {
    "collapsed": false,
    "jupyter": {
     "outputs_hidden": false
    }
   },
   "outputs": [
    {
     "data": {
      "text/plain": [
       "{'1': 0, '2': 0, '3': 0}"
      ]
     },
     "execution_count": 13,
     "metadata": {},
     "output_type": "execute_result"
    }
   ],
   "source": [
    "{ f:len(V[f]) for f in dumpfiles }"
   ]
  },
  {
   "cell_type": "code",
   "execution_count": 47,
   "metadata": {
    "collapsed": false,
    "jupyter": {
     "outputs_hidden": false
    }
   },
   "outputs": [
    {
     "data": {
      "text/plain": [
       "6987"
      ]
     },
     "execution_count": 47,
     "metadata": {},
     "output_type": "execute_result"
    }
   ],
   "source": [
    "z=set()\n",
    "for f in V.keys():\n",
    "    z = z.union(set(V[f]))\n",
    "len(z)"
   ]
  },
  {
   "cell_type": "code",
   "execution_count": 62,
   "metadata": {
    "collapsed": false,
    "jupyter": {
     "outputs_hidden": false
    }
   },
   "outputs": [],
   "source": [
    "M = [[ len(set(V[f])-set(V[j])) for f in V.keys()] for j in V.keys()] "
   ]
  },
  {
   "cell_type": "code",
   "execution_count": 51,
   "metadata": {
    "collapsed": false,
    "jupyter": {
     "outputs_hidden": false
    }
   },
   "outputs": [],
   "source": [
    "import matplotlib.pyplot as plt"
   ]
  },
  {
   "cell_type": "code",
   "execution_count": 63,
   "metadata": {
    "collapsed": false,
    "jupyter": {
     "outputs_hidden": false
    }
   },
   "outputs": [
    {
     "data": {
      "image/png": "[encoded data removed]",
      "text/plain": [
       "<matplotlib.figure.Figure at 0x1c2fc5e50>"
      ]
     },
     "metadata": {},
     "output_type": "display_data"
    }
   ],
   "source": [
    "plt.imshow(M,)\n",
    "plt.show()"
   ]
  },
  {
   "cell_type": "code",
   "execution_count": 57,
   "metadata": {
    "collapsed": false,
    "jupyter": {
     "outputs_hidden": false
    }
   },
   "outputs": [],
   "source": [
    "import math"
   ]
  },
  {
   "cell_type": "code",
   "execution_count": 64,
   "metadata": {
    "collapsed": false,
    "jupyter": {
     "outputs_hidden": false
    }
   },
   "outputs": [],
   "source": [
    "df = p.DataFrame(M,index=V.keys(),columns=V.keys())"
   ]
  },
  {
   "cell_type": "code",
   "execution_count": 76,
   "metadata": {
    "collapsed": false,
    "jupyter": {
     "outputs_hidden": false
    }
   },
   "outputs": [
    {
     "data": {
      "image/png": "[encoded data removed]",
      "text/plain": [
       "<matplotlib.figure.Figure at 0x1c39faf50>"
      ]
     },
     "metadata": {},
     "output_type": "display_data"
    }
   ],
   "source": [
    "plt.pcolor(df,cmap='hot')\n",
    "plt.show()"
   ]
  },
  {
   "cell_type": "code",
   "execution_count": 72,
   "metadata": {
    "collapsed": false,
    "jupyter": {
     "outputs_hidden": false
    }
   },
   "outputs": [
    {
     "data": {
      "text/html": [
       "<div>\n",
       "<table border=\"1\" class=\"dataframe\">\n",
       "  <thead>\n",
       "    <tr style=\"text-align: right;\">\n",
       "      <th></th>\n",
       "      <th>./ldap-m-1</th>\n",
       "      <th>./ldap-024</th>\n",
       "      <th>./ldap-017</th>\n",
       "      <th>./ldap-018</th>\n",
       "      <th>./ldap-023</th>\n",
       "      <th>./ldap-m-3</th>\n",
       "      <th>./ldap-022</th>\n",
       "      <th>./ldap-021</th>\n",
       "      <th>./ldap-m-2</th>\n",
       "      <th>./ldap-007</th>\n",
       "      <th>./ldap-019</th>\n",
       "      <th>./ldap-005</th>\n",
       "      <th>./ldap-004</th>\n",
       "      <th>./ldap-016</th>\n",
       "      <th>./ldap-015</th>\n",
       "      <th>./ldap-009</th>\n",
       "      <th>./ldap-008</th>\n",
       "      <th>./ldap-011</th>\n",
       "      <th>./ldap-012</th>\n",
       "      <th>./ldap-013</th>\n",
       "    </tr>\n",
       "  </thead>\n",
       "  <tbody>\n",
       "    <tr>\n",
       "      <th>./ldap-m-1</th>\n",
       "      <td>0</td>\n",
       "      <td>25</td>\n",
       "      <td>26</td>\n",
       "      <td>26</td>\n",
       "      <td>26</td>\n",
       "      <td>0</td>\n",
       "      <td>25</td>\n",
       "      <td>25</td>\n",
       "      <td>0</td>\n",
       "      <td>29</td>\n",
       "      <td>26</td>\n",
       "      <td>28</td>\n",
       "      <td>28</td>\n",
       "      <td>26</td>\n",
       "      <td>26</td>\n",
       "      <td>27</td>\n",
       "      <td>29</td>\n",
       "      <td>26</td>\n",
       "      <td>26</td>\n",
       "      <td>26</td>\n",
       "    </tr>\n",
       "    <tr>\n",
       "      <th>./ldap-024</th>\n",
       "      <td>21</td>\n",
       "      <td>0</td>\n",
       "      <td>1</td>\n",
       "      <td>1</td>\n",
       "      <td>1</td>\n",
       "      <td>21</td>\n",
       "      <td>0</td>\n",
       "      <td>0</td>\n",
       "      <td>21</td>\n",
       "      <td>4</td>\n",
       "      <td>1</td>\n",
       "      <td>3</td>\n",
       "      <td>3</td>\n",
       "      <td>1</td>\n",
       "      <td>1</td>\n",
       "      <td>2</td>\n",
       "      <td>4</td>\n",
       "      <td>1</td>\n",
       "      <td>1</td>\n",
       "      <td>1</td>\n",
       "    </tr>\n",
       "    <tr>\n",
       "      <th>./ldap-017</th>\n",
       "      <td>22</td>\n",
       "      <td>1</td>\n",
       "      <td>0</td>\n",
       "      <td>0</td>\n",
       "      <td>2</td>\n",
       "      <td>22</td>\n",
       "      <td>1</td>\n",
       "      <td>1</td>\n",
       "      <td>22</td>\n",
       "      <td>3</td>\n",
       "      <td>0</td>\n",
       "      <td>2</td>\n",
       "      <td>2</td>\n",
       "      <td>0</td>\n",
       "      <td>0</td>\n",
       "      <td>1</td>\n",
       "      <td>3</td>\n",
       "      <td>0</td>\n",
       "      <td>0</td>\n",
       "      <td>0</td>\n",
       "    </tr>\n",
       "    <tr>\n",
       "      <th>./ldap-018</th>\n",
       "      <td>22</td>\n",
       "      <td>1</td>\n",
       "      <td>0</td>\n",
       "      <td>0</td>\n",
       "      <td>2</td>\n",
       "      <td>22</td>\n",
       "      <td>1</td>\n",
       "      <td>1</td>\n",
       "      <td>22</td>\n",
       "      <td>3</td>\n",
       "      <td>0</td>\n",
       "      <td>2</td>\n",
       "      <td>2</td>\n",
       "      <td>0</td>\n",
       "      <td>0</td>\n",
       "      <td>1</td>\n",
       "      <td>3</td>\n",
       "      <td>0</td>\n",
       "      <td>0</td>\n",
       "      <td>0</td>\n",
       "    </tr>\n",
       "    <tr>\n",
       "      <th>./ldap-023</th>\n",
       "      <td>21</td>\n",
       "      <td>0</td>\n",
       "      <td>1</td>\n",
       "      <td>1</td>\n",
       "      <td>0</td>\n",
       "      <td>21</td>\n",
       "      <td>0</td>\n",
       "      <td>0</td>\n",
       "      <td>21</td>\n",
       "      <td>4</td>\n",
       "      <td>1</td>\n",
       "      <td>3</td>\n",
       "      <td>3</td>\n",
       "      <td>1</td>\n",
       "      <td>1</td>\n",
       "      <td>2</td>\n",
       "      <td>4</td>\n",
       "      <td>1</td>\n",
       "      <td>1</td>\n",
       "      <td>1</td>\n",
       "    </tr>\n",
       "    <tr>\n",
       "      <th>./ldap-m-3</th>\n",
       "      <td>0</td>\n",
       "      <td>25</td>\n",
       "      <td>26</td>\n",
       "      <td>26</td>\n",
       "      <td>26</td>\n",
       "      <td>0</td>\n",
       "      <td>25</td>\n",
       "      <td>25</td>\n",
       "      <td>0</td>\n",
       "      <td>29</td>\n",
       "      <td>26</td>\n",
       "      <td>28</td>\n",
       "      <td>28</td>\n",
       "      <td>26</td>\n",
       "      <td>26</td>\n",
       "      <td>27</td>\n",
       "      <td>29</td>\n",
       "      <td>26</td>\n",
       "      <td>26</td>\n",
       "      <td>26</td>\n",
       "    </tr>\n",
       "    <tr>\n",
       "      <th>./ldap-022</th>\n",
       "      <td>21</td>\n",
       "      <td>0</td>\n",
       "      <td>1</td>\n",
       "      <td>1</td>\n",
       "      <td>1</td>\n",
       "      <td>21</td>\n",
       "      <td>0</td>\n",
       "      <td>0</td>\n",
       "      <td>21</td>\n",
       "      <td>4</td>\n",
       "      <td>1</td>\n",
       "      <td>3</td>\n",
       "      <td>3</td>\n",
       "      <td>1</td>\n",
       "      <td>1</td>\n",
       "      <td>2</td>\n",
       "      <td>4</td>\n",
       "      <td>1</td>\n",
       "      <td>1</td>\n",
       "      <td>1</td>\n",
       "    </tr>\n",
       "    <tr>\n",
       "      <th>./ldap-021</th>\n",
       "      <td>21</td>\n",
       "      <td>0</td>\n",
       "      <td>1</td>\n",
       "      <td>1</td>\n",
       "      <td>1</td>\n",
       "      <td>21</td>\n",
       "      <td>0</td>\n",
       "      <td>0</td>\n",
       "      <td>21</td>\n",
       "      <td>4</td>\n",
       "      <td>1</td>\n",
       "      <td>3</td>\n",
       "      <td>3</td>\n",
       "      <td>1</td>\n",
       "      <td>1</td>\n",
       "      <td>2</td>\n",
       "      <td>4</td>\n",
       "      <td>1</td>\n",
       "      <td>1</td>\n",
       "      <td>1</td>\n",
       "    </tr>\n",
       "    <tr>\n",
       "      <th>./ldap-m-2</th>\n",
       "      <td>0</td>\n",
       "      <td>25</td>\n",
       "      <td>26</td>\n",
       "      <td>26</td>\n",
       "      <td>26</td>\n",
       "      <td>0</td>\n",
       "      <td>25</td>\n",
       "      <td>25</td>\n",
       "      <td>0</td>\n",
       "      <td>29</td>\n",
       "      <td>26</td>\n",
       "      <td>28</td>\n",
       "      <td>28</td>\n",
       "      <td>26</td>\n",
       "      <td>26</td>\n",
       "      <td>27</td>\n",
       "      <td>29</td>\n",
       "      <td>26</td>\n",
       "      <td>26</td>\n",
       "      <td>26</td>\n",
       "    </tr>\n",
       "    <tr>\n",
       "      <th>./ldap-007</th>\n",
       "      <td>24</td>\n",
       "      <td>3</td>\n",
       "      <td>2</td>\n",
       "      <td>2</td>\n",
       "      <td>4</td>\n",
       "      <td>24</td>\n",
       "      <td>3</td>\n",
       "      <td>3</td>\n",
       "      <td>24</td>\n",
       "      <td>0</td>\n",
       "      <td>2</td>\n",
       "      <td>0</td>\n",
       "      <td>0</td>\n",
       "      <td>2</td>\n",
       "      <td>2</td>\n",
       "      <td>1</td>\n",
       "      <td>1</td>\n",
       "      <td>2</td>\n",
       "      <td>2</td>\n",
       "      <td>2</td>\n",
       "    </tr>\n",
       "    <tr>\n",
       "      <th>./ldap-019</th>\n",
       "      <td>22</td>\n",
       "      <td>1</td>\n",
       "      <td>0</td>\n",
       "      <td>0</td>\n",
       "      <td>2</td>\n",
       "      <td>22</td>\n",
       "      <td>1</td>\n",
       "      <td>1</td>\n",
       "      <td>22</td>\n",
       "      <td>3</td>\n",
       "      <td>0</td>\n",
       "      <td>2</td>\n",
       "      <td>2</td>\n",
       "      <td>0</td>\n",
       "      <td>0</td>\n",
       "      <td>1</td>\n",
       "      <td>3</td>\n",
       "      <td>0</td>\n",
       "      <td>0</td>\n",
       "      <td>0</td>\n",
       "    </tr>\n",
       "    <tr>\n",
       "      <th>./ldap-005</th>\n",
       "      <td>6956</td>\n",
       "      <td>6935</td>\n",
       "      <td>6934</td>\n",
       "      <td>6934</td>\n",
       "      <td>6936</td>\n",
       "      <td>6956</td>\n",
       "      <td>6935</td>\n",
       "      <td>6935</td>\n",
       "      <td>6956</td>\n",
       "      <td>6933</td>\n",
       "      <td>6934</td>\n",
       "      <td>0</td>\n",
       "      <td>0</td>\n",
       "      <td>2</td>\n",
       "      <td>3</td>\n",
       "      <td>6933</td>\n",
       "      <td>6933</td>\n",
       "      <td>6934</td>\n",
       "      <td>6934</td>\n",
       "      <td>6934</td>\n",
       "    </tr>\n",
       "    <tr>\n",
       "      <th>./ldap-004</th>\n",
       "      <td>6956</td>\n",
       "      <td>6935</td>\n",
       "      <td>6934</td>\n",
       "      <td>6934</td>\n",
       "      <td>6936</td>\n",
       "      <td>6956</td>\n",
       "      <td>6935</td>\n",
       "      <td>6935</td>\n",
       "      <td>6956</td>\n",
       "      <td>6933</td>\n",
       "      <td>6934</td>\n",
       "      <td>0</td>\n",
       "      <td>0</td>\n",
       "      <td>2</td>\n",
       "      <td>3</td>\n",
       "      <td>6933</td>\n",
       "      <td>6933</td>\n",
       "      <td>6934</td>\n",
       "      <td>6934</td>\n",
       "      <td>6934</td>\n",
       "    </tr>\n",
       "    <tr>\n",
       "      <th>./ldap-016</th>\n",
       "      <td>6954</td>\n",
       "      <td>6933</td>\n",
       "      <td>6932</td>\n",
       "      <td>6932</td>\n",
       "      <td>6934</td>\n",
       "      <td>6954</td>\n",
       "      <td>6933</td>\n",
       "      <td>6933</td>\n",
       "      <td>6954</td>\n",
       "      <td>6935</td>\n",
       "      <td>6932</td>\n",
       "      <td>2</td>\n",
       "      <td>2</td>\n",
       "      <td>0</td>\n",
       "      <td>1</td>\n",
       "      <td>6933</td>\n",
       "      <td>6935</td>\n",
       "      <td>6932</td>\n",
       "      <td>6932</td>\n",
       "      <td>6932</td>\n",
       "    </tr>\n",
       "    <tr>\n",
       "      <th>./ldap-015</th>\n",
       "      <td>6953</td>\n",
       "      <td>6932</td>\n",
       "      <td>6931</td>\n",
       "      <td>6931</td>\n",
       "      <td>6933</td>\n",
       "      <td>6953</td>\n",
       "      <td>6932</td>\n",
       "      <td>6932</td>\n",
       "      <td>6953</td>\n",
       "      <td>6934</td>\n",
       "      <td>6931</td>\n",
       "      <td>2</td>\n",
       "      <td>2</td>\n",
       "      <td>0</td>\n",
       "      <td>0</td>\n",
       "      <td>6932</td>\n",
       "      <td>6934</td>\n",
       "      <td>6931</td>\n",
       "      <td>6931</td>\n",
       "      <td>6931</td>\n",
       "    </tr>\n",
       "    <tr>\n",
       "      <th>./ldap-009</th>\n",
       "      <td>23</td>\n",
       "      <td>2</td>\n",
       "      <td>1</td>\n",
       "      <td>1</td>\n",
       "      <td>3</td>\n",
       "      <td>23</td>\n",
       "      <td>2</td>\n",
       "      <td>2</td>\n",
       "      <td>23</td>\n",
       "      <td>2</td>\n",
       "      <td>1</td>\n",
       "      <td>1</td>\n",
       "      <td>1</td>\n",
       "      <td>1</td>\n",
       "      <td>1</td>\n",
       "      <td>0</td>\n",
       "      <td>2</td>\n",
       "      <td>1</td>\n",
       "      <td>1</td>\n",
       "      <td>1</td>\n",
       "    </tr>\n",
       "    <tr>\n",
       "      <th>./ldap-008</th>\n",
       "      <td>24</td>\n",
       "      <td>3</td>\n",
       "      <td>2</td>\n",
       "      <td>2</td>\n",
       "      <td>4</td>\n",
       "      <td>24</td>\n",
       "      <td>3</td>\n",
       "      <td>3</td>\n",
       "      <td>24</td>\n",
       "      <td>1</td>\n",
       "      <td>2</td>\n",
       "      <td>0</td>\n",
       "      <td>0</td>\n",
       "      <td>2</td>\n",
       "      <td>2</td>\n",
       "      <td>1</td>\n",
       "      <td>0</td>\n",
       "      <td>2</td>\n",
       "      <td>2</td>\n",
       "      <td>2</td>\n",
       "    </tr>\n",
       "    <tr>\n",
       "      <th>./ldap-011</th>\n",
       "      <td>22</td>\n",
       "      <td>1</td>\n",
       "      <td>0</td>\n",
       "      <td>0</td>\n",
       "      <td>2</td>\n",
       "      <td>22</td>\n",
       "      <td>1</td>\n",
       "      <td>1</td>\n",
       "      <td>22</td>\n",
       "      <td>3</td>\n",
       "      <td>0</td>\n",
       "      <td>2</td>\n",
       "      <td>2</td>\n",
       "      <td>0</td>\n",
       "      <td>0</td>\n",
       "      <td>1</td>\n",
       "      <td>3</td>\n",
       "      <td>0</td>\n",
       "      <td>0</td>\n",
       "      <td>0</td>\n",
       "    </tr>\n",
       "    <tr>\n",
       "      <th>./ldap-012</th>\n",
       "      <td>22</td>\n",
       "      <td>1</td>\n",
       "      <td>0</td>\n",
       "      <td>0</td>\n",
       "      <td>2</td>\n",
       "      <td>22</td>\n",
       "      <td>1</td>\n",
       "      <td>1</td>\n",
       "      <td>22</td>\n",
       "      <td>3</td>\n",
       "      <td>0</td>\n",
       "      <td>2</td>\n",
       "      <td>2</td>\n",
       "      <td>0</td>\n",
       "      <td>0</td>\n",
       "      <td>1</td>\n",
       "      <td>3</td>\n",
       "      <td>0</td>\n",
       "      <td>0</td>\n",
       "      <td>0</td>\n",
       "    </tr>\n",
       "    <tr>\n",
       "      <th>./ldap-013</th>\n",
       "      <td>22</td>\n",
       "      <td>1</td>\n",
       "      <td>0</td>\n",
       "      <td>0</td>\n",
       "      <td>2</td>\n",
       "      <td>22</td>\n",
       "      <td>1</td>\n",
       "      <td>1</td>\n",
       "      <td>22</td>\n",
       "      <td>3</td>\n",
       "      <td>0</td>\n",
       "      <td>2</td>\n",
       "      <td>2</td>\n",
       "      <td>0</td>\n",
       "      <td>0</td>\n",
       "      <td>1</td>\n",
       "      <td>3</td>\n",
       "      <td>0</td>\n",
       "      <td>0</td>\n",
       "      <td>0</td>\n",
       "    </tr>\n",
       "  </tbody>\n",
       "</table>\n",
       "</div>"
      ],
      "text/plain": [
       "            ./ldap-m-1  ./ldap-024  ./ldap-017  ./ldap-018  ./ldap-023  \\\n",
       "./ldap-m-1           0          25          26          26          26   \n",
       "./ldap-024          21           0           1           1           1   \n",
       "./ldap-017          22           1           0           0           2   \n",
       "./ldap-018          22           1           0           0           2   \n",
       "./ldap-023          21           0           1           1           0   \n",
       "./ldap-m-3           0          25          26          26          26   \n",
       "./ldap-022          21           0           1           1           1   \n",
       "./ldap-021          21           0           1           1           1   \n",
       "./ldap-m-2           0          25          26          26          26   \n",
       "./ldap-007          24           3           2           2           4   \n",
       "./ldap-019          22           1           0           0           2   \n",
       "./ldap-005        6956        6935        6934        6934        6936   \n",
       "./ldap-004        6956        6935        6934        6934        6936   \n",
       "./ldap-016        6954        6933        6932        6932        6934   \n",
       "./ldap-015        6953        6932        6931        6931        6933   \n",
       "./ldap-009          23           2           1           1           3   \n",
       "./ldap-008          24           3           2           2           4   \n",
       "./ldap-011          22           1           0           0           2   \n",
       "./ldap-012          22           1           0           0           2   \n",
       "./ldap-013          22           1           0           0           2   \n",
       "\n",
       "            ./ldap-m-3  ./ldap-022  ./ldap-021  ./ldap-m-2  ./ldap-007  \\\n",
       "./ldap-m-1           0          25          25           0          29   \n",
       "./ldap-024          21           0           0          21           4   \n",
       "./ldap-017          22           1           1          22           3   \n",
       "./ldap-018          22           1           1          22           3   \n",
       "./ldap-023          21           0           0          21           4   \n",
       "./ldap-m-3           0          25          25           0          29   \n",
       "./ldap-022          21           0           0          21           4   \n",
       "./ldap-021          21           0           0          21           4   \n",
       "./ldap-m-2           0          25          25           0          29   \n",
       "./ldap-007          24           3           3          24           0   \n",
       "./ldap-019          22           1           1          22           3   \n",
       "./ldap-005        6956        6935        6935        6956        6933   \n",
       "./ldap-004        6956        6935        6935        6956        6933   \n",
       "./ldap-016        6954        6933        6933        6954        6935   \n",
       "./ldap-015        6953        6932        6932        6953        6934   \n",
       "./ldap-009          23           2           2          23           2   \n",
       "./ldap-008          24           3           3          24           1   \n",
       "./ldap-011          22           1           1          22           3   \n",
       "./ldap-012          22           1           1          22           3   \n",
       "./ldap-013          22           1           1          22           3   \n",
       "\n",
       "            ./ldap-019  ./ldap-005  ./ldap-004  ./ldap-016  ./ldap-015  \\\n",
       "./ldap-m-1          26          28          28          26          26   \n",
       "./ldap-024           1           3           3           1           1   \n",
       "./ldap-017           0           2           2           0           0   \n",
       "./ldap-018           0           2           2           0           0   \n",
       "./ldap-023           1           3           3           1           1   \n",
       "./ldap-m-3          26          28          28          26          26   \n",
       "./ldap-022           1           3           3           1           1   \n",
       "./ldap-021           1           3           3           1           1   \n",
       "./ldap-m-2          26          28          28          26          26   \n",
       "./ldap-007           2           0           0           2           2   \n",
       "./ldap-019           0           2           2           0           0   \n",
       "./ldap-005        6934           0           0           2           3   \n",
       "./ldap-004        6934           0           0           2           3   \n",
       "./ldap-016        6932           2           2           0           1   \n",
       "./ldap-015        6931           2           2           0           0   \n",
       "./ldap-009           1           1           1           1           1   \n",
       "./ldap-008           2           0           0           2           2   \n",
       "./ldap-011           0           2           2           0           0   \n",
       "./ldap-012           0           2           2           0           0   \n",
       "./ldap-013           0           2           2           0           0   \n",
       "\n",
       "            ./ldap-009  ./ldap-008  ./ldap-011  ./ldap-012  ./ldap-013  \n",
       "./ldap-m-1          27          29          26          26          26  \n",
       "./ldap-024           2           4           1           1           1  \n",
       "./ldap-017           1           3           0           0           0  \n",
       "./ldap-018           1           3           0           0           0  \n",
       "./ldap-023           2           4           1           1           1  \n",
       "./ldap-m-3          27          29          26          26          26  \n",
       "./ldap-022           2           4           1           1           1  \n",
       "./ldap-021           2           4           1           1           1  \n",
       "./ldap-m-2          27          29          26          26          26  \n",
       "./ldap-007           1           1           2           2           2  \n",
       "./ldap-019           1           3           0           0           0  \n",
       "./ldap-005        6933        6933        6934        6934        6934  \n",
       "./ldap-004        6933        6933        6934        6934        6934  \n",
       "./ldap-016        6933        6935        6932        6932        6932  \n",
       "./ldap-015        6932        6934        6931        6931        6931  \n",
       "./ldap-009           0           2           1           1           1  \n",
       "./ldap-008           1           0           2           2           2  \n",
       "./ldap-011           1           3           0           0           0  \n",
       "./ldap-012           1           3           0           0           0  \n",
       "./ldap-013           1           3           0           0           0  "
      ]
     },
     "execution_count": 72,
     "metadata": {},
     "output_type": "execute_result"
    }
   ],
   "source": [
    "df"
   ]
  },
  {
   "cell_type": "code",
   "execution_count": 79,
   "metadata": {
    "collapsed": false,
    "jupyter": {
     "outputs_hidden": false
    }
   },
   "outputs": [],
   "source": [
    "import csv"
   ]
  },
  {
   "cell_type": "code",
   "execution_count": 85,
   "metadata": {
    "collapsed": false,
    "jupyter": {
     "outputs_hidden": false
    }
   },
   "outputs": [],
   "source": [
    "csvf = open('/tmp/csvfile.csv','w')\n",
    "for line in z-set(V['./ldap-004']):\n",
    "    csvf.write(line)\n",
    "    csvf.write(\"\\n\")\n",
    "csvf.close()"
   ]
  },
  {
   "cell_type": "code",
   "execution_count": 99,
   "metadata": {
    "collapsed": false,
    "jupyter": {
     "outputs_hidden": false
    }
   },
   "outputs": [
    {
     "data": {
      "image/png": "[encoded data removed]",
      "text/plain": [
       "<matplotlib.figure.Figure at 0x11e183810>"
      ]
     },
     "metadata": {},
     "output_type": "display_data"
    }
   ],
   "source": [
    "tms = set(line.strip() for line in open('./t'))\n",
    "plt.hist([int(i) for i in tms])\n",
    "plt.show()"
   ]
  },
  {
   "cell_type": "code",
   "execution_count": null,
   "metadata": {
    "tags": []
   },
   "outputs": [],
   "source": []
  }
 ],
 "metadata": {
  "kernelspec": {
   "display_name": "Python 3 (ipykernel)",
   "language": "python",
   "name": "python3"
  },
  "language_info": {
   "codemirror_mode": {
    "name": "ipython",
    "version": 3
   },
   "file_extension": ".py",
   "mimetype": "text/x-python",
   "name": "python",
   "nbconvert_exporter": "python",
   "pygments_lexer": "ipython3",
   "version": "3.9.7"
  }
 },
 "nbformat": 4,
 "nbformat_minor": 4
}
